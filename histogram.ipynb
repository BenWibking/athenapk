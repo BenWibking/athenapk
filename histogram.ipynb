{
 "cells": [
  {
   "cell_type": "code",
   "execution_count": 47,
   "metadata": {},
   "outputs": [],
   "source": [
    "import yt\n",
    "from yt.units import dimensions\n",
    "import numpy as np\n",
    "import unyt\n",
    "import scipy.interpolate\n",
    "import matplotlib.pyplot as plt\n",
    "\n",
    "def _abs_z(field, data):\n",
    "    return np.abs(data[\"gas\", \"z\"])\n",
    "\n",
    "yt.add_field(\n",
    "    name=(\"gas\", \"abs_z\"),\n",
    "    function=_abs_z,\n",
    "    sampling_type=\"local\",\n",
    "    units=\"auto\",\n",
    "    dimensions=dimensions.length,\n",
    ")"
   ]
  },
  {
   "cell_type": "code",
   "execution_count": 52,
   "metadata": {},
   "outputs": [
    {
     "ename": "FileNotFoundError",
     "evalue": "No such file or directory: '/scratch/cvz/bwibking/precipitator/solenoidal/tc_tff_2.0/output_tcorr_500_eff_0.97/snapshots/parthenon.prim.00000.phdf'.",
     "output_type": "error",
     "traceback": [
      "\u001b[0;31m---------------------------------------------------------------------------\u001b[0m",
      "\u001b[0;31mFileNotFoundError\u001b[0m                         Traceback (most recent call last)",
      "\u001b[1;32m/Users/benwibking/athenapk/histogram.ipynb Cell 2\u001b[0m line \u001b[0;36m5\n\u001b[1;32m      <a href='vscode-notebook-cell:/Users/benwibking/athenapk/histogram.ipynb#W2sZmlsZQ%3D%3D?line=1'>2</a>\u001b[0m filenames \u001b[39m=\u001b[39m [(root_dir \u001b[39m+\u001b[39m \u001b[39m\"\u001b[39m\u001b[39mparthenon.prim.\u001b[39m\u001b[39m\"\u001b[39m \u001b[39m+\u001b[39m \u001b[39mstr\u001b[39m(i)\u001b[39m.\u001b[39mzfill(\u001b[39m5\u001b[39m) \u001b[39m+\u001b[39m \u001b[39m\"\u001b[39m\u001b[39m.phdf\u001b[39m\u001b[39m\"\u001b[39m, \u001b[39m\"\u001b[39m\u001b[39mparthenon.prim.\u001b[39m\u001b[39m\"\u001b[39m \u001b[39m+\u001b[39m \u001b[39mstr\u001b[39m(i)\u001b[39m.\u001b[39mzfill(\u001b[39m5\u001b[39m)) \u001b[39mfor\u001b[39;00m i \u001b[39min\u001b[39;00m \u001b[39mrange\u001b[39m(\u001b[39m40\u001b[39m)]\n\u001b[1;32m      <a href='vscode-notebook-cell:/Users/benwibking/athenapk/histogram.ipynb#W2sZmlsZQ%3D%3D?line=3'>4</a>\u001b[0m \u001b[39mfor\u001b[39;00m filename, filename_base \u001b[39min\u001b[39;00m filenames:\n\u001b[0;32m----> <a href='vscode-notebook-cell:/Users/benwibking/athenapk/histogram.ipynb#W2sZmlsZQ%3D%3D?line=4'>5</a>\u001b[0m     ds \u001b[39m=\u001b[39m yt\u001b[39m.\u001b[39mload(filename)\n\u001b[1;32m      <a href='vscode-notebook-cell:/Users/benwibking/athenapk/histogram.ipynb#W2sZmlsZQ%3D%3D?line=5'>6</a>\u001b[0m     source \u001b[39m=\u001b[39m ds\u001b[39m.\u001b[39mall_data()\n\u001b[1;32m      <a href='vscode-notebook-cell:/Users/benwibking/athenapk/histogram.ipynb#W2sZmlsZQ%3D%3D?line=7'>8</a>\u001b[0m     \u001b[39m# compute entropy histogram\u001b[39;00m\n",
      "File \u001b[0;32m~/yt/yt/_maintenance/deprecation.py:73\u001b[0m, in \u001b[0;36mfuture_positional_only.<locals>.outer.<locals>.inner\u001b[0;34m(*args, **kwargs)\u001b[0m\n\u001b[1;32m     65\u001b[0m     value \u001b[39m=\u001b[39m kwargs[name]\n\u001b[1;32m     66\u001b[0m     issue_deprecation_warning(\n\u001b[1;32m     67\u001b[0m         \u001b[39mf\u001b[39m\u001b[39m\"\u001b[39m\u001b[39mUsing the \u001b[39m\u001b[39m{\u001b[39;00mname\u001b[39m!r}\u001b[39;00m\u001b[39m argument as keyword (on position \u001b[39m\u001b[39m{\u001b[39;00mno\u001b[39m}\u001b[39;00m\u001b[39m) \u001b[39m\u001b[39m\"\u001b[39m\n\u001b[1;32m     68\u001b[0m         \u001b[39m\"\u001b[39m\u001b[39mis deprecated. \u001b[39m\u001b[39m\"\u001b[39m\n\u001b[0;32m   (...)\u001b[0m\n\u001b[1;32m     71\u001b[0m         \u001b[39m*\u001b[39m\u001b[39m*\u001b[39mdepr_kwargs,\n\u001b[1;32m     72\u001b[0m     )\n\u001b[0;32m---> 73\u001b[0m \u001b[39mreturn\u001b[39;00m func(\u001b[39m*\u001b[39margs, \u001b[39m*\u001b[39m\u001b[39m*\u001b[39mkwargs)\n",
      "File \u001b[0;32m~/yt/yt/loaders.py:103\u001b[0m, in \u001b[0;36mload\u001b[0;34m(fn, hint, *args, **kwargs)\u001b[0m\n\u001b[1;32m    100\u001b[0m \u001b[39m# This will raise FileNotFoundError if the path isn't matched\u001b[39;00m\n\u001b[1;32m    101\u001b[0m \u001b[39m# either in the current dir or yt.config.ytcfg['data_dir_directory']\u001b[39;00m\n\u001b[1;32m    102\u001b[0m \u001b[39mif\u001b[39;00m \u001b[39mnot\u001b[39;00m fn\u001b[39m.\u001b[39mstartswith(\u001b[39m\"\u001b[39m\u001b[39mhttp\u001b[39m\u001b[39m\"\u001b[39m):\n\u001b[0;32m--> 103\u001b[0m     fn \u001b[39m=\u001b[39m \u001b[39mstr\u001b[39m(lookup_on_disk_data(fn))\n\u001b[1;32m    105\u001b[0m \u001b[39mif\u001b[39;00m sys\u001b[39m.\u001b[39mversion_info \u001b[39m>\u001b[39m\u001b[39m=\u001b[39m (\u001b[39m3\u001b[39m, \u001b[39m10\u001b[39m):\n\u001b[1;32m    106\u001b[0m     external_frontends \u001b[39m=\u001b[39m entry_points(group\u001b[39m=\u001b[39m\u001b[39m\"\u001b[39m\u001b[39myt.frontends\u001b[39m\u001b[39m\"\u001b[39m)\n",
      "File \u001b[0;32m~/yt/yt/sample_data/api.py:190\u001b[0m, in \u001b[0;36mlookup_on_disk_data\u001b[0;34m(fn)\u001b[0m\n\u001b[1;32m    188\u001b[0m         \u001b[39mreturn\u001b[39;00m alt_path\n\u001b[1;32m    189\u001b[0m     err_msg \u001b[39m+\u001b[39m\u001b[39m=\u001b[39m \u001b[39mf\u001b[39m\u001b[39m\"\u001b[39m\u001b[39m\\n\u001b[39;00m\u001b[39m(Also tried \u001b[39m\u001b[39m'\u001b[39m\u001b[39m{\u001b[39;00malt_path\u001b[39m}\u001b[39;00m\u001b[39m'\u001b[39m\u001b[39m).\u001b[39m\u001b[39m\"\u001b[39m\n\u001b[0;32m--> 190\u001b[0m \u001b[39mraise\u001b[39;00m \u001b[39mFileNotFoundError\u001b[39;00m(err_msg)\n",
      "\u001b[0;31mFileNotFoundError\u001b[0m: No such file or directory: '/scratch/cvz/bwibking/precipitator/solenoidal/tc_tff_2.0/output_tcorr_500_eff_0.97/snapshots/parthenon.prim.00000.phdf'."
     ]
    }
   ],
   "source": [
    "root_dir = \"/scratch/cvz/bwibking/precipitator/solenoidal/tc_tff_2.0/output_tcorr_500_eff_0.97/snapshots/\"\n",
    "filenames = [(root_dir + \"parthenon.prim.\" + str(i).zfill(5) + \".phdf\", \"parthenon.prim.\" + str(i).zfill(5)) for i in range(40)]\n",
    "\n",
    "for filename, filename_base in filenames:\n",
    "    ds = yt.load(filename)\n",
    "    source = ds.all_data()\n",
    "\n",
    "    # compute entropy histogram\n",
    "    K_bins = np.logspace(-4.5, -3.5, 20)\n",
    "    z_bins = np.logspace(np.log10(10.), 2.0, 20) * 3.086e18 * 1.0e3\n",
    "    histogram = yt.data_objects.profiles.create_profile(source,\n",
    "        [(\"gas\", \"abs_z\"), (\"parthenon\", \"entropy\")],\n",
    "        [(\"gas\", \"cell_mass\")]\n",
    "        , override_bins={(\"parthenon\", \"entropy\"): K_bins, (\"gas\", \"abs_z\"): z_bins})\n",
    "\n",
    "    bins_x = np.log10(histogram.x / 3.086e18 / 1.0e3) # abs_z\n",
    "    bins_y = np.log10(histogram.y) # entropy\n",
    "    hist = histogram[\"gas\", \"cell_mass\"] / 1.99e33  # profile field\n",
    "\n",
    "    lb = np.zeros(len(bins_x))\n",
    "    ub = np.zeros(len(bins_x))\n",
    "    median = np.zeros(len(bins_x))\n",
    "    for i in range(len(bins_x)):\n",
    "        cdf = np.concatenate([np.array([0]), np.cumsum(hist[i,:])])\n",
    "        cdf /= cdf[-1]\n",
    "        interp = scipy.interpolate.interp1d(cdf, np.log10(K_bins), kind='linear')\n",
    "        median[i] = interp(0.5)\n",
    "        lb[i] = interp(0.16)\n",
    "        ub[i] = interp(0.84)\n",
    "    \n",
    "    plt.clf()\n",
    "    plt.plot(bins_x, median, color='black', label='median $\\log K$')\n",
    "    plt.fill_between(bins_x, lb, ub, alpha=0.5, label=r'1$\\sigma$ region')\n",
    "    plt.ylim(-4.5, -3.5)\n",
    "    plt.xlabel(r'$\\log |z|$ (kpc)')\n",
    "    plt.ylabel(r'$\\log K$')\n",
    "    plt.legend(loc='best')\n",
    "    plt.savefig(filename_base + \".png\")"
   ]
  }
 ],
 "metadata": {
  "kernelspec": {
   "display_name": "Python 3",
   "language": "python",
   "name": "python3"
  },
  "language_info": {
   "codemirror_mode": {
    "name": "ipython",
    "version": 3
   },
   "file_extension": ".py",
   "mimetype": "text/x-python",
   "name": "python",
   "nbconvert_exporter": "python",
   "pygments_lexer": "ipython3",
   "version": "3.11.4"
  }
 },
 "nbformat": 4,
 "nbformat_minor": 2
}
