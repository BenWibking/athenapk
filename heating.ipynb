{
 "cells": [
  {
   "cell_type": "code",
   "execution_count": 2,
   "metadata": {},
   "outputs": [
    {
     "data": {
      "text/plain": [
       "5.00789261312673e-28"
      ]
     },
     "execution_count": 2,
     "metadata": {},
     "output_type": "execute_result"
    }
   ],
   "source": [
    "# compute heating rate\n",
    "import numpy as np\n",
    "gamma = 5./3.\n",
    "mH = 1.673533e-24 # H mass (g)\n",
    "kB = 1.380649e-16 # Boltzmann constant (cgs)\n",
    "mu = 0.6 * mH\n",
    "T = 3.0e7\n",
    "kpc_in_cm = 3.086e21 # cm\n",
    "L = 50 * kpc_in_cm\n",
    "Mach = 0.3\n",
    "cs = np.sqrt(gamma * kB * T / mu)\n",
    "dv = Mach * cs\n",
    "ndens = 1.0e-2\n",
    "turb_heat = 0.5*(ndens*mu)*(dv*dv)*(dv/L)\n",
    "turb_heat"
   ]
  },
  {
   "cell_type": "code",
   "execution_count": 37,
   "metadata": {},
   "outputs": [
    {
     "data": {
      "text/plain": [
       "1e-26"
      ]
     },
     "execution_count": 37,
     "metadata": {},
     "output_type": "execute_result"
    }
   ],
   "source": [
    "# compute cooling rate\n",
    "Lambda_cool = 1.0e-22\n",
    "cool_rate = ndens**2 * Lambda_cool\n",
    "cool_rate"
   ]
  },
  {
   "cell_type": "code",
   "execution_count": 69,
   "metadata": {},
   "outputs": [
    {
     "data": {
      "text/plain": [
       "0.2528968017715269"
      ]
     },
     "execution_count": 69,
     "metadata": {},
     "output_type": "execute_result"
    }
   ],
   "source": [
    "f_turb = 0.03\n",
    "dv = (2*f_turb*ndens*Lambda_cool*L/mu)**(1./3.)\n",
    "Mach_number = dv / cs\n",
    "Mach_number"
   ]
  },
  {
   "cell_type": "code",
   "execution_count": 70,
   "metadata": {},
   "outputs": [
    {
     "data": {
      "text/plain": [
       "233.6028608361942"
      ]
     },
     "execution_count": 70,
     "metadata": {},
     "output_type": "execute_result"
    }
   ],
   "source": [
    "# eddy turnover timescale\n",
    "t_eddy = L / dv\n",
    "t_eddy / 3.15e7 / 1.0e6 # Myr"
   ]
  },
  {
   "cell_type": "code",
   "execution_count": 71,
   "metadata": {},
   "outputs": [
    {
     "data": {
      "text/plain": [
       "197.2355714285714"
      ]
     },
     "execution_count": 71,
     "metadata": {},
     "output_type": "execute_result"
    }
   ],
   "source": [
    "t_cool = (3./2.) * kB * T / (ndens * Lambda_cool)\n",
    "t_cool / 3.15e7 / 1.0e6 # Myr"
   ]
  },
  {
   "cell_type": "code",
   "execution_count": 72,
   "metadata": {},
   "outputs": [
    {
     "data": {
      "text/plain": [
       "166.92975377089098"
      ]
     },
     "execution_count": 72,
     "metadata": {},
     "output_type": "execute_result"
    }
   ],
   "source": [
    "l_cool = cs * t_cool\n",
    "l_cool / 3.086e18  / 1.0e3 # pc"
   ]
  },
  {
   "cell_type": "code",
   "execution_count": 76,
   "metadata": {},
   "outputs": [
    {
     "data": {
      "text/plain": [
       "1.1843850434493919"
      ]
     },
     "execution_count": 76,
     "metadata": {},
     "output_type": "execute_result"
    }
   ],
   "source": [
    "Da_t = t_eddy / t_cool\n",
    "Da_t"
   ]
  },
  {
   "cell_type": "code",
   "execution_count": 29,
   "metadata": {},
   "outputs": [
    {
     "data": {
      "text/plain": [
       "1.8257418583505536"
      ]
     },
     "execution_count": 29,
     "metadata": {},
     "output_type": "execute_result"
    }
   ],
   "source": [
    "tc_over_tff = 2.0\n",
    "L = 50.0 * kpc_in_cm\n",
    "z = 25.0 * kpc_in_cm\n",
    "Mach = 0.3\n",
    "Da_t = (1/np.sqrt(2*gamma)) * (tc_over_tff)**(-1) * L / (Mach * z)\n",
    "Da_t"
   ]
  },
  {
   "cell_type": "code",
   "execution_count": 30,
   "metadata": {},
   "outputs": [
    {
     "data": {
      "text/plain": [
       "0.3061862178478973"
      ]
     },
     "execution_count": 30,
     "metadata": {},
     "output_type": "execute_result"
    }
   ],
   "source": [
    "Fr = (gamma / np.sqrt(gamma - 1.)) * (Mach * z) / L\n",
    "Fr"
   ]
  }
 ],
 "metadata": {
  "kernelspec": {
   "display_name": "Python 3",
   "language": "python",
   "name": "python3"
  },
  "language_info": {
   "codemirror_mode": {
    "name": "ipython",
    "version": 3
   },
   "file_extension": ".py",
   "mimetype": "text/x-python",
   "name": "python",
   "nbconvert_exporter": "python",
   "pygments_lexer": "ipython3",
   "version": "3.11.6"
  },
  "orig_nbformat": 4
 },
 "nbformat": 4,
 "nbformat_minor": 2
}
