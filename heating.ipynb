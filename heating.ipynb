{
 "cells": [
  {
   "cell_type": "code",
   "execution_count": 29,
   "metadata": {},
   "outputs": [
    {
     "data": {
      "text/plain": [
       "1.1592344011867434e-28"
      ]
     },
     "execution_count": 29,
     "metadata": {},
     "output_type": "execute_result"
    }
   ],
   "source": [
    "# compute heating rate\n",
    "import numpy as np\n",
    "gamma = 5./3.\n",
    "mH = 1.673533e-24 # H mass (g)\n",
    "kB = 1.380649e-16 # Boltzmann constant (cgs)\n",
    "mu = 0.6 * mH\n",
    "T = 3.0e7\n",
    "kpc_in_cm = 3.086e21 # cm\n",
    "L = 100 * kpc_in_cm\n",
    "Mach = 0.5\n",
    "cs = np.sqrt(gamma * kB * T / mu)\n",
    "dv = Mach * cs\n",
    "ndens = 1.0e-3\n",
    "turb_heat = 0.5*(ndens*mu)*(dv*dv)*(dv/L)\n",
    "turb_heat"
   ]
  },
  {
   "cell_type": "code",
   "execution_count": 30,
   "metadata": {},
   "outputs": [
    {
     "data": {
      "text/plain": [
       "1e-28"
      ]
     },
     "execution_count": 30,
     "metadata": {},
     "output_type": "execute_result"
    }
   ],
   "source": [
    "# compute cooling rate\n",
    "Lambda_cool = 1.0e-22\n",
    "cool_rate = ndens**2 * Lambda_cool\n",
    "cool_rate"
   ]
  },
  {
   "cell_type": "code",
   "execution_count": 32,
   "metadata": {},
   "outputs": [
    {
     "data": {
      "text/plain": [
       "0.22092570562189412"
      ]
     },
     "execution_count": 32,
     "metadata": {},
     "output_type": "execute_result"
    }
   ],
   "source": [
    "f_turb = 0.1\n",
    "dv = (2*f_turb*ndens*Lambda_cool*L/mu)**(1./3.)\n",
    "Mach_number = dv / cs\n",
    "Mach_number"
   ]
  }
 ],
 "metadata": {
  "kernelspec": {
   "display_name": "Python 3",
   "language": "python",
   "name": "python3"
  },
  "language_info": {
   "codemirror_mode": {
    "name": "ipython",
    "version": 3
   },
   "file_extension": ".py",
   "mimetype": "text/x-python",
   "name": "python",
   "nbconvert_exporter": "python",
   "pygments_lexer": "ipython3",
   "version": "3.11.4"
  },
  "orig_nbformat": 4
 },
 "nbformat": 4,
 "nbformat_minor": 2
}
